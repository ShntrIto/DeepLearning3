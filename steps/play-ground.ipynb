{
 "cells": [
  {
   "cell_type": "markdown",
   "metadata": {},
   "source": [
    "# 確認用"
   ]
  },
  {
   "cell_type": "markdown",
   "metadata": {},
   "source": [
    "###  np.isscalarを試す"
   ]
  },
  {
   "cell_type": "code",
   "execution_count": 4,
   "metadata": {},
   "outputs": [
    {
     "name": "stdout",
     "output_type": "stream",
     "text": [
      "True\n",
      "True\n",
      "False\n",
      "False\n"
     ]
    }
   ],
   "source": [
    "import numpy as np\n",
    "\n",
    "print(np.isscalar(np.float64(1.0)))\n",
    "print(np.isscalar(1.0))\n",
    "print(np.isscalar(np.array(1.0)))\n",
    "print(np.isscalar(np.array([1, 2, 3])))"
   ]
  },
  {
   "cell_type": "markdown",
   "metadata": {},
   "source": [
    "### 可変長引数"
   ]
  },
  {
   "cell_type": "code",
   "execution_count": 1,
   "metadata": {},
   "outputs": [
    {
     "name": "stdout",
     "output_type": "stream",
     "text": [
      "(1,)\n",
      "(1, 2, 3)\n",
      "(1, 2, 3, 4, 5, 6)\n"
     ]
    }
   ],
   "source": [
    "def f(*x):\n",
    "    print(x)\n",
    "\n",
    "f(1)\n",
    "f(1, 2, 3)\n",
    "f(1, 2, 3, 4, 5, 6)"
   ]
  },
  {
   "cell_type": "markdown",
   "metadata": {},
   "source": [
    "### ダミーの関数でgenerationの取り出し"
   ]
  },
  {
   "cell_type": "code",
   "execution_count": 15,
   "metadata": {},
   "outputs": [
    {
     "name": "stdout",
     "output_type": "stream",
     "text": [
      "4\n"
     ]
    }
   ],
   "source": [
    "import numpy as np\n",
    "import heapq as hq\n",
    "\n",
    "class Variable:\n",
    "    def __init__(self, data):\n",
    "        if data is not None:\n",
    "            if not isinstance(data, np.ndarray):\n",
    "                raise TypeError('{} is not supportted'.format(type(data)))\n",
    "        self.data = data\n",
    "        self.grad = None\n",
    "        self.creator = None # 変数にとって生みの親である関数\n",
    "        self.generation = 0 # 正しい逆伝播のための世代\n",
    "    \n",
    "    def set_creator(self, func):\n",
    "        '''\n",
    "        creatorを指定しない変数も存在するので，set_creatorという関数が必要\n",
    "        '''\n",
    "        self.creator = func\n",
    "        # input側から，output側へ set_creator 関数を実行するので，自分の関数の generation に 1 を加える\n",
    "        self.generation = func.generation + 1\n",
    "\n",
    "    def backward(self):\n",
    "        if self.grad is None: # grad の初期化に使用する\n",
    "            self.grad = np.ones_like(self.data) # self.data と型も同じになる\n",
    "\n",
    "        funcs = [self.creator] # 次の関数を見つけるたびにここに追加される\n",
    "        while funcs:\n",
    "            f = funcs.pop()\n",
    "\n",
    "            gys = [output.grad for output in f.outputs]\n",
    "            gxs = f.backward(*gys)\n",
    "\n",
    "            if not isinstance(gxs, tuple): # 単にgxに要素のみ（スカラ）が入っている場合でも，タプルに変換可能\n",
    "                gxs = (gxs,) # なぜタプルにするんだっけ？\n",
    "            \n",
    "            for x, gx in zip(f.inputs, gxs):\n",
    "                if x.grad is None:\n",
    "                    x.grad = gx\n",
    "                else:\n",
    "                    x.grad = x.grad + gx # それまでの勾配に，別の勾配を足し合わせる\n",
    "\n",
    "                if x.creator is not None:\n",
    "                    funcs.append(x.creator)\n",
    "\n",
    "    def cleargrad(self):\n",
    "        self.grad = None\n",
    "\n",
    "class Function:\n",
    "    def __call__(self, *inputs): # アスタリスクは可変長引数を表す\n",
    "        '''\n",
    "        入力が複数ある場合に対応させる\n",
    "        '''\n",
    "        xs = [x.data for x in inputs]\n",
    "        ys = self.forward(*xs) # アスタリスクをつけてアンパッキングする\n",
    "        if not (isinstance(ys, tuple)):\n",
    "            ys = (ys,) # ys をタプルにする\n",
    "        outputs = [Variable(as_array(y)) for y in ys]\n",
    "\n",
    "        self.generation = max([x.generation for x in inputs]) # 入力の中の，最も大きい generation に合わせる\n",
    "        for output in outputs:\n",
    "            output.set_creator(self)\n",
    "        self.inputs = inputs\n",
    "        self.outputs = outputs\n",
    "        # リストの要素が1つの時は，最初の要素を返す\n",
    "        return outputs if len(outputs) > 1 else outputs[0]\n",
    "\n",
    "    def __lt__(self, other): # 関数同士の比較に必要？\n",
    "        return self.generation < other.generation\n",
    "\n",
    "    def forward(self, xs):\n",
    "        raise NotImplementedError()\n",
    "\n",
    "    def backward(self, gys):\n",
    "        raise NotImplementedError()\n",
    "    \n",
    "generations = [2, 0, 1, 4, 2]\n",
    "alphabets = ['d', 'x', 'b', 'q', 'r']\n",
    "funcs = []\n",
    "\n",
    "for g, a in zip(generations, alphabets):\n",
    "    f = Function()\n",
    "    f.generation = g\n",
    "    hq.heappush(funcs, (-1*f.generation, f))\n",
    "\n",
    "# print(hq.heappop(funcs))\n",
    "_, f = hq.heappop(funcs)\n",
    "print(f.generation)\n",
    "\n",
    "# print([f.generation for f in funcs])\n",
    "\n",
    "# funcs.sort(key=lambda x: x.generation)\n",
    "# print([f.generation for f in funcs])\n",
    "\n",
    "# f = funcs.pop()\n",
    "# print(f.generation)"
   ]
  },
  {
   "cell_type": "code",
   "execution_count": null,
   "metadata": {},
   "outputs": [],
   "source": [
    "class Variable:\n",
    "    def __init__(self, data):\n",
    "        if data is not None:\n",
    "            if not isinstance(data, np.ndarray):\n",
    "                raise TypeError('{} is not supportted'.format(type(data)))\n",
    "        self.data = data\n",
    "        self.grad = None\n",
    "        self.creator = None # 変数にとって生みの親である関数\n",
    "        self.generation = 0 # 正しい逆伝播のための世代\n",
    "    \n",
    "    def set_creator(self, func):\n",
    "        '''\n",
    "        creatorを指定しない変数も存在するので，set_creatorという関数が必要\n",
    "        '''\n",
    "        self.creator = func\n",
    "        # input側から，output側へ set_creator 関数を実行するので，自分の関数の generation に 1 を加える\n",
    "        self.generation = func.generation + 1\n",
    "\n",
    "    def backward(self):\n",
    "        if self.grad is None: # grad の初期化に使用する\n",
    "            self.grad = np.ones_like(self.data) # self.data と型も同じになる\n",
    "\n",
    "        funcs = []\n",
    "        seen_set = set() # 集合を使うことで，同じ関数を重複して追加することを避ける\n",
    "\n",
    "        def add_func(f):\n",
    "            if f not in seen_set:\n",
    "                funcs.append(f)\n",
    "                seen_set.add(f)\n",
    "                funcs.sort(key=lambda x: x.generation)\n",
    "        \n",
    "        add_func(self.creator)\n",
    "\n",
    "        while funcs:\n",
    "            f = funcs.pop()\n",
    "\n",
    "            gys = [output.grad for output in f.outputs]\n",
    "            gxs = f.backward(*gys)\n",
    "\n",
    "            if not isinstance(gxs, tuple): # 単にgxに要素のみ（スカラ）が入っている場合でも，タプルに変換可能\n",
    "                gxs = (gxs,) # なぜタプルにするんだっけ？\n",
    "            \n",
    "            for x, gx in zip(f.inputs, gxs):\n",
    "                if x.grad is None:\n",
    "                    x.grad = gx\n",
    "                else:\n",
    "                    x.grad = x.grad + gx # それまでの勾配に，別の勾配を足し合わせる\n",
    "\n",
    "                if x.creator is not None:\n",
    "                    add_func(x.creator)\n",
    "\n",
    "    def cleargrad(self):\n",
    "        self.grad = None\n",
    "\n",
    "class Function:\n",
    "    def __call__(self, *inputs): # アスタリスクは可変長引数を表す\n",
    "        '''\n",
    "        入力が複数ある場合に対応させる\n",
    "        '''\n",
    "        xs = [x.data for x in inputs]\n",
    "        ys = self.forward(*xs) # アスタリスクをつけてアンパッキングする\n",
    "        if not (isinstance(ys, tuple)):\n",
    "            ys = (ys,) # ys をタプルにする\n",
    "        outputs = [Variable(as_array(y)) for y in ys]\n",
    "\n",
    "        self.generation = max([x.generation for x in inputs]) # 入力の中の，最も大きい generation に合わせる\n",
    "        for output in outputs:\n",
    "            output.set_creator(self)\n",
    "        self.inputs = inputs\n",
    "        self.outputs = outputs\n",
    "        # リストの要素が1つの時は，最初の要素を返す\n",
    "        return outputs if len(outputs) > 1 else outputs[0]\n",
    "    \n",
    "    def forward(self, xs):\n",
    "        raise NotImplementedError()\n",
    "\n",
    "    def backward(self, gys):\n",
    "        raise NotImplementedError()"
   ]
  },
  {
   "cell_type": "markdown",
   "metadata": {},
   "source": [
    "## メモリ管理"
   ]
  },
  {
   "cell_type": "code",
   "execution_count": null,
   "metadata": {},
   "outputs": [],
   "source": [
    "class obj:\n",
    "    pass\n",
    "\n",
    "def f(x):\n",
    "    print(x)\n",
    "\n",
    "a = obj() # 参照カウント 1 \n",
    "f(a) # 関数内では，参照カウント 2\n",
    "# 関数を抜けて，参照カウント 1\n",
    "a = None # 参照カウント 0（Noneを代入しているから？）\n",
    "\n",
    "# オブジェクト同士の参照の連鎖\n",
    "a = obj()\n",
    "b = obj()\n",
    "c = obj()\n",
    "a.b = b\n",
    "b.c = c\n",
    "a = b = c = None"
   ]
  },
  {
   "cell_type": "markdown",
   "metadata": {},
   "source": [
    "### 参照カウント\n",
    "- 連鎖的に参照カウントが0になることで，ユーザから参照されていないオブジェクトはまとめて消去されることになる\n",
    "\n",
    "→ 循環参照の場合は，参照カウントが0にならず，メモリから解放されない\n",
    "\n",
    "### Grabage Collection (GC)\n",
    "メモリが不足したタイミングなどで Python インタプリタによって自動的に呼び出される．\n",
    "- GC によって循環参照を解消できるが，GCによってメモリの開放を先送りすることは，プログラム全体のメモリ使用量を増加させる原因になる"
   ]
  },
  {
   "cell_type": "code",
   "execution_count": 2,
   "metadata": {},
   "outputs": [
    {
     "name": "stdout",
     "output_type": "stream",
     "text": [
      "<weakref at 0x7f4970e419a0; to 'numpy.ndarray' at 0x7f494ea53990>\n",
      "[1 2 3]\n",
      "<weakref at 0x7f4970e419a0; dead>\n"
     ]
    }
   ],
   "source": [
    "import weakref\n",
    "import numpy as np\n",
    "\n",
    "a = np.array([1, 2, 3])\n",
    "b = weakref.ref(a)\n",
    "\n",
    "print(b)\n",
    "print(b()) # 参照先のデータにアクセスするには，b()とする\n",
    "\n",
    "a = None\n",
    "print(b) # b が dead になる"
   ]
  },
  {
   "cell_type": "code",
   "execution_count": 1,
   "metadata": {},
   "outputs": [
    {
     "ename": "ModuleNotFoundError",
     "evalue": "No module named 'dezero'",
     "output_type": "error",
     "traceback": [
      "\u001b[0;31m---------------------------------------------------------------------------\u001b[0m",
      "\u001b[0;31mModuleNotFoundError\u001b[0m                       Traceback (most recent call last)",
      "Cell \u001b[0;32mIn[1], line 6\u001b[0m\n\u001b[1;32m      3\u001b[0m     sys\u001b[38;5;241m.\u001b[39mpath\u001b[38;5;241m.\u001b[39mappend(os\u001b[38;5;241m.\u001b[39mpath\u001b[38;5;241m.\u001b[39mjoin(os\u001b[38;5;241m.\u001b[39mpath\u001b[38;5;241m.\u001b[39mdirname(\u001b[38;5;18m__file__\u001b[39m), \u001b[38;5;124m'\u001b[39m\u001b[38;5;124m..\u001b[39m\u001b[38;5;124m'\u001b[39m))\n\u001b[1;32m      5\u001b[0m \u001b[38;5;28;01mimport\u001b[39;00m \u001b[38;5;21;01mnumpy\u001b[39;00m \u001b[38;5;28;01mas\u001b[39;00m \u001b[38;5;21;01mnp\u001b[39;00m\n\u001b[0;32m----> 6\u001b[0m \u001b[38;5;28;01mfrom\u001b[39;00m \u001b[38;5;21;01mdezero\u001b[39;00m \u001b[38;5;28;01mimport\u001b[39;00m Variable\n\u001b[1;32m      7\u001b[0m \u001b[38;5;28;01mfrom\u001b[39;00m \u001b[38;5;21;01mdezero\u001b[39;00m\u001b[38;5;21;01m.\u001b[39;00m\u001b[38;5;21;01mutils\u001b[39;00m \u001b[38;5;28;01mimport\u001b[39;00m get_dot_graph\n\u001b[1;32m      9\u001b[0m x0 \u001b[38;5;241m=\u001b[39m Variable(np\u001b[38;5;241m.\u001b[39marray(\u001b[38;5;241m1.0\u001b[39m))\n",
      "\u001b[0;31mModuleNotFoundError\u001b[0m: No module named 'dezero'"
     ]
    }
   ],
   "source": [
    "if '__file__' in globals():\n",
    "    import os, sys\n",
    "    sys.path.append(os.path.join(os.path.dirname(__file__), '..'))\n",
    "\n",
    "import numpy as np\n",
    "from dezero import Variable\n",
    "from dezero.utils import get_dot_graph\n",
    "\n",
    "x0 = Variable(np.array(1.0))\n",
    "x1 = Variable(np.array(1.0))\n",
    "y = x0 + x1\n",
    "\n",
    "x0.name = 'x0'\n",
    "x1.name = 'x1'\n",
    "y.name = 'y'\n",
    "\n",
    "txt = get_dot_graph(y, verbose=False)\n",
    "print(txt)\n",
    "\n",
    "with open('sample.dot', 'w') as o:\n",
    "    o.write(txt)"
   ]
  },
  {
   "cell_type": "code",
   "execution_count": null,
   "metadata": {},
   "outputs": [],
   "source": []
  }
 ],
 "metadata": {
  "kernelspec": {
   "display_name": "DLenv",
   "language": "python",
   "name": "python3"
  },
  "language_info": {
   "codemirror_mode": {
    "name": "ipython",
    "version": 3
   },
   "file_extension": ".py",
   "mimetype": "text/x-python",
   "name": "python",
   "nbconvert_exporter": "python",
   "pygments_lexer": "ipython3",
   "version": "3.8.15"
  }
 },
 "nbformat": 4,
 "nbformat_minor": 2
}
